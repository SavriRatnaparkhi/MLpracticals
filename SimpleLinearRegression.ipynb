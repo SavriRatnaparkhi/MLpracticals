{
 "cells": [
  {
   "cell_type": "code",
   "execution_count": 58,
   "id": "607d3cce",
   "metadata": {},
   "outputs": [],
   "source": [
    "import numpy as np\n",
    "import pandas as pd\n",
    "import matplotlib.pyplot as plt\n",
    "from sklearn.model_selection import train_test_split\n",
    "from sklearn.linear_model import LinearRegression\n",
    "from sklearn.metrics import accuracy_score,mean_absolute_error,mean_squared_error"
   ]
  },
  {
   "cell_type": "code",
   "execution_count": 28,
   "id": "f18925bd",
   "metadata": {},
   "outputs": [
    {
     "data": {
      "text/html": [
       "<div>\n",
       "<style scoped>\n",
       "    .dataframe tbody tr th:only-of-type {\n",
       "        vertical-align: middle;\n",
       "    }\n",
       "\n",
       "    .dataframe tbody tr th {\n",
       "        vertical-align: top;\n",
       "    }\n",
       "\n",
       "    .dataframe thead th {\n",
       "        text-align: right;\n",
       "    }\n",
       "</style>\n",
       "<table border=\"1\" class=\"dataframe\">\n",
       "  <thead>\n",
       "    <tr style=\"text-align: right;\">\n",
       "      <th></th>\n",
       "      <th>Temperature</th>\n",
       "      <th>Revenue</th>\n",
       "    </tr>\n",
       "  </thead>\n",
       "  <tbody>\n",
       "    <tr>\n",
       "      <th>0</th>\n",
       "      <td>24.566884</td>\n",
       "      <td>534.799028</td>\n",
       "    </tr>\n",
       "    <tr>\n",
       "      <th>1</th>\n",
       "      <td>26.005191</td>\n",
       "      <td>625.190122</td>\n",
       "    </tr>\n",
       "    <tr>\n",
       "      <th>2</th>\n",
       "      <td>27.790554</td>\n",
       "      <td>660.632289</td>\n",
       "    </tr>\n",
       "    <tr>\n",
       "      <th>3</th>\n",
       "      <td>20.595335</td>\n",
       "      <td>487.706960</td>\n",
       "    </tr>\n",
       "    <tr>\n",
       "      <th>4</th>\n",
       "      <td>11.503498</td>\n",
       "      <td>316.240194</td>\n",
       "    </tr>\n",
       "  </tbody>\n",
       "</table>\n",
       "</div>"
      ],
      "text/plain": [
       "   Temperature     Revenue\n",
       "0    24.566884  534.799028\n",
       "1    26.005191  625.190122\n",
       "2    27.790554  660.632289\n",
       "3    20.595335  487.706960\n",
       "4    11.503498  316.240194"
      ]
     },
     "execution_count": 28,
     "metadata": {},
     "output_type": "execute_result"
    }
   ],
   "source": [
    "df = pd.read_csv(\"IceCreamData.csv\")\n",
    "df.head()"
   ]
  },
  {
   "cell_type": "code",
   "execution_count": 29,
   "id": "acb56b29",
   "metadata": {},
   "outputs": [
    {
     "name": "stdout",
     "output_type": "stream",
     "text": [
      "<class 'pandas.core.frame.DataFrame'>\n",
      "RangeIndex: 500 entries, 0 to 499\n",
      "Data columns (total 2 columns):\n",
      " #   Column       Non-Null Count  Dtype  \n",
      "---  ------       --------------  -----  \n",
      " 0   Temperature  500 non-null    float64\n",
      " 1   Revenue      500 non-null    float64\n",
      "dtypes: float64(2)\n",
      "memory usage: 7.9 KB\n"
     ]
    }
   ],
   "source": [
    "df.info()"
   ]
  },
  {
   "cell_type": "code",
   "execution_count": 3,
   "id": "705b7498",
   "metadata": {},
   "outputs": [
    {
     "data": {
      "text/html": [
       "<div>\n",
       "<style scoped>\n",
       "    .dataframe tbody tr th:only-of-type {\n",
       "        vertical-align: middle;\n",
       "    }\n",
       "\n",
       "    .dataframe tbody tr th {\n",
       "        vertical-align: top;\n",
       "    }\n",
       "\n",
       "    .dataframe thead th {\n",
       "        text-align: right;\n",
       "    }\n",
       "</style>\n",
       "<table border=\"1\" class=\"dataframe\">\n",
       "  <thead>\n",
       "    <tr style=\"text-align: right;\">\n",
       "      <th></th>\n",
       "      <th>Temperature</th>\n",
       "      <th>Revenue</th>\n",
       "    </tr>\n",
       "  </thead>\n",
       "  <tbody>\n",
       "    <tr>\n",
       "      <th>Temperature</th>\n",
       "      <td>1.000000</td>\n",
       "      <td>0.989802</td>\n",
       "    </tr>\n",
       "    <tr>\n",
       "      <th>Revenue</th>\n",
       "      <td>0.989802</td>\n",
       "      <td>1.000000</td>\n",
       "    </tr>\n",
       "  </tbody>\n",
       "</table>\n",
       "</div>"
      ],
      "text/plain": [
       "             Temperature   Revenue\n",
       "Temperature     1.000000  0.989802\n",
       "Revenue         0.989802  1.000000"
      ]
     },
     "execution_count": 3,
     "metadata": {},
     "output_type": "execute_result"
    }
   ],
   "source": [
    "df.corr()"
   ]
  },
  {
   "cell_type": "code",
   "execution_count": 5,
   "id": "5016cd0f",
   "metadata": {},
   "outputs": [
    {
     "data": {
      "text/plain": [
       "Temperature    0\n",
       "Revenue        0\n",
       "dtype: int64"
      ]
     },
     "execution_count": 5,
     "metadata": {},
     "output_type": "execute_result"
    }
   ],
   "source": [
    "df.isnull().sum()"
   ]
  },
  {
   "cell_type": "code",
   "execution_count": 61,
   "id": "1bf24ee4",
   "metadata": {},
   "outputs": [
    {
     "data": {
      "image/png": "[encoded data removed]",
      "text/plain": [
       "<Figure size 432x288 with 1 Axes>"
      ]
     },
     "metadata": {
      "needs_background": "light"
     },
     "output_type": "display_data"
    }
   ],
   "source": [
    "plt.scatter(df['Temperature'],df['Revenue'])\n",
    "plt.plot(x_test,y_pred,color='red')\n",
    "plt.xlabel('Temperature')\n",
    "plt.ylabel('Revenue')\n",
    "plt.title('Regression')\n",
    "plt.show()"
   ]
  },
  {
   "cell_type": "code",
   "execution_count": 11,
   "id": "be4cf2f4",
   "metadata": {},
   "outputs": [
    {
     "data": {
      "text/plain": [
       "(500, 2)"
      ]
     },
     "execution_count": 11,
     "metadata": {},
     "output_type": "execute_result"
    }
   ],
   "source": [
    "df.shape"
   ]
  },
  {
   "cell_type": "code",
   "execution_count": 31,
   "id": "da16d98b",
   "metadata": {},
   "outputs": [],
   "source": [
    "# linear regression will need the inputs in 1d array, therefore converting it into 1d using reshape\n",
    "x_train,x_test,y_train,y_test = train_test_split(df['Temperature'].values.reshape(-1,1),df['Revenue'].values.reshape(-1,1),test_size=0.1)"
   ]
  },
  {
   "cell_type": "code",
   "execution_count": 17,
   "id": "24fe06b5",
   "metadata": {},
   "outputs": [],
   "source": [
    "lr = LinearRegression()"
   ]
  },
  {
   "cell_type": "code",
   "execution_count": 32,
   "id": "7d6ac420",
   "metadata": {},
   "outputs": [
    {
     "data": {
      "text/plain": [
       "LinearRegression()"
      ]
     },
     "execution_count": 32,
     "metadata": {},
     "output_type": "execute_result"
    }
   ],
   "source": [
    "lr.fit(x_train,y_train)"
   ]
  },
  {
   "cell_type": "code",
   "execution_count": 38,
   "id": "031f8743",
   "metadata": {},
   "outputs": [],
   "source": [
    "y_pred=lr.predict(x_test)"
   ]
  },
  {
   "cell_type": "code",
   "execution_count": 41,
   "id": "6d244009",
   "metadata": {},
   "outputs": [],
   "source": [
    "prediction = pd.DataFrame(x_test,columns=['x'])"
   ]
  },
  {
   "cell_type": "code",
   "execution_count": 42,
   "id": "9905fb3f",
   "metadata": {},
   "outputs": [],
   "source": [
    "prediction['y_test'] = y_test\n",
    "prediction['y_pred'] = y_pred"
   ]
  },
  {
   "cell_type": "code",
   "execution_count": 43,
   "id": "5402c1d9",
   "metadata": {},
   "outputs": [],
   "source": [
    "prediction['Residuals'] = y_pred - y_test"
   ]
  },
  {
   "cell_type": "code",
   "execution_count": 44,
   "id": "2dea731c",
   "metadata": {},
   "outputs": [
    {
     "data": {
      "text/html": [
       "<div>\n",
       "<style scoped>\n",
       "    .dataframe tbody tr th:only-of-type {\n",
       "        vertical-align: middle;\n",
       "    }\n",
       "\n",
       "    .dataframe tbody tr th {\n",
       "        vertical-align: top;\n",
       "    }\n",
       "\n",
       "    .dataframe thead th {\n",
       "        text-align: right;\n",
       "    }\n",
       "</style>\n",
       "<table border=\"1\" class=\"dataframe\">\n",
       "  <thead>\n",
       "    <tr style=\"text-align: right;\">\n",
       "      <th></th>\n",
       "      <th>x</th>\n",
       "      <th>y_test</th>\n",
       "      <th>y_pred</th>\n",
       "      <th>Residuals</th>\n",
       "    </tr>\n",
       "  </thead>\n",
       "  <tbody>\n",
       "    <tr>\n",
       "      <th>0</th>\n",
       "      <td>25.457836</td>\n",
       "      <td>612.153949</td>\n",
       "      <td>590.915669</td>\n",
       "      <td>-21.238280</td>\n",
       "    </tr>\n",
       "    <tr>\n",
       "      <th>1</th>\n",
       "      <td>29.430578</td>\n",
       "      <td>618.235765</td>\n",
       "      <td>675.982817</td>\n",
       "      <td>57.747052</td>\n",
       "    </tr>\n",
       "    <tr>\n",
       "      <th>2</th>\n",
       "      <td>27.599066</td>\n",
       "      <td>634.121978</td>\n",
       "      <td>636.765193</td>\n",
       "      <td>2.643215</td>\n",
       "    </tr>\n",
       "    <tr>\n",
       "      <th>3</th>\n",
       "      <td>30.427792</td>\n",
       "      <td>704.281439</td>\n",
       "      <td>697.335851</td>\n",
       "      <td>-6.945588</td>\n",
       "    </tr>\n",
       "    <tr>\n",
       "      <th>4</th>\n",
       "      <td>24.802577</td>\n",
       "      <td>563.301280</td>\n",
       "      <td>576.884790</td>\n",
       "      <td>13.583510</td>\n",
       "    </tr>\n",
       "    <tr>\n",
       "      <th>5</th>\n",
       "      <td>24.521847</td>\n",
       "      <td>538.312890</td>\n",
       "      <td>570.873601</td>\n",
       "      <td>32.560711</td>\n",
       "    </tr>\n",
       "    <tr>\n",
       "      <th>6</th>\n",
       "      <td>23.349034</td>\n",
       "      <td>586.138767</td>\n",
       "      <td>545.760514</td>\n",
       "      <td>-40.378253</td>\n",
       "    </tr>\n",
       "    <tr>\n",
       "      <th>7</th>\n",
       "      <td>21.026398</td>\n",
       "      <td>521.775445</td>\n",
       "      <td>496.026598</td>\n",
       "      <td>-25.748848</td>\n",
       "    </tr>\n",
       "    <tr>\n",
       "      <th>8</th>\n",
       "      <td>14.866103</td>\n",
       "      <td>296.906532</td>\n",
       "      <td>364.118036</td>\n",
       "      <td>67.211504</td>\n",
       "    </tr>\n",
       "    <tr>\n",
       "      <th>9</th>\n",
       "      <td>25.002380</td>\n",
       "      <td>550.701404</td>\n",
       "      <td>581.163110</td>\n",
       "      <td>30.461707</td>\n",
       "    </tr>\n",
       "    <tr>\n",
       "      <th>10</th>\n",
       "      <td>18.880356</td>\n",
       "      <td>476.794525</td>\n",
       "      <td>450.074034</td>\n",
       "      <td>-26.720491</td>\n",
       "    </tr>\n",
       "    <tr>\n",
       "      <th>11</th>\n",
       "      <td>25.116070</td>\n",
       "      <td>587.221246</td>\n",
       "      <td>583.597526</td>\n",
       "      <td>-3.623720</td>\n",
       "    </tr>\n",
       "    <tr>\n",
       "      <th>12</th>\n",
       "      <td>29.209715</td>\n",
       "      <td>654.747461</td>\n",
       "      <td>671.253530</td>\n",
       "      <td>16.506069</td>\n",
       "    </tr>\n",
       "    <tr>\n",
       "      <th>13</th>\n",
       "      <td>30.965087</td>\n",
       "      <td>702.623614</td>\n",
       "      <td>708.840782</td>\n",
       "      <td>6.217169</td>\n",
       "    </tr>\n",
       "    <tr>\n",
       "      <th>14</th>\n",
       "      <td>14.896972</td>\n",
       "      <td>384.699415</td>\n",
       "      <td>364.779023</td>\n",
       "      <td>-19.920393</td>\n",
       "    </tr>\n",
       "    <tr>\n",
       "      <th>15</th>\n",
       "      <td>20.226420</td>\n",
       "      <td>475.538209</td>\n",
       "      <td>478.896913</td>\n",
       "      <td>3.358704</td>\n",
       "    </tr>\n",
       "    <tr>\n",
       "      <th>16</th>\n",
       "      <td>17.262181</td>\n",
       "      <td>415.817674</td>\n",
       "      <td>415.424536</td>\n",
       "      <td>-0.393139</td>\n",
       "    </tr>\n",
       "    <tr>\n",
       "      <th>17</th>\n",
       "      <td>34.472169</td>\n",
       "      <td>809.352519</td>\n",
       "      <td>783.936903</td>\n",
       "      <td>-25.415616</td>\n",
       "    </tr>\n",
       "    <tr>\n",
       "      <th>18</th>\n",
       "      <td>17.993020</td>\n",
       "      <td>413.914067</td>\n",
       "      <td>431.073776</td>\n",
       "      <td>17.159709</td>\n",
       "    </tr>\n",
       "    <tr>\n",
       "      <th>19</th>\n",
       "      <td>19.194951</td>\n",
       "      <td>463.065614</td>\n",
       "      <td>456.810369</td>\n",
       "      <td>-6.255245</td>\n",
       "    </tr>\n",
       "    <tr>\n",
       "      <th>20</th>\n",
       "      <td>22.171199</td>\n",
       "      <td>515.459102</td>\n",
       "      <td>520.539876</td>\n",
       "      <td>5.080774</td>\n",
       "    </tr>\n",
       "    <tr>\n",
       "      <th>21</th>\n",
       "      <td>33.744209</td>\n",
       "      <td>797.566536</td>\n",
       "      <td>768.349301</td>\n",
       "      <td>-29.217235</td>\n",
       "    </tr>\n",
       "    <tr>\n",
       "      <th>22</th>\n",
       "      <td>20.411031</td>\n",
       "      <td>513.804382</td>\n",
       "      <td>482.849928</td>\n",
       "      <td>-30.954454</td>\n",
       "    </tr>\n",
       "    <tr>\n",
       "      <th>23</th>\n",
       "      <td>17.299204</td>\n",
       "      <td>405.915159</td>\n",
       "      <td>416.217292</td>\n",
       "      <td>10.302133</td>\n",
       "    </tr>\n",
       "    <tr>\n",
       "      <th>24</th>\n",
       "      <td>28.464933</td>\n",
       "      <td>607.839194</td>\n",
       "      <td>655.305736</td>\n",
       "      <td>47.466543</td>\n",
       "    </tr>\n",
       "    <tr>\n",
       "      <th>25</th>\n",
       "      <td>26.874953</td>\n",
       "      <td>634.584751</td>\n",
       "      <td>621.259966</td>\n",
       "      <td>-13.324785</td>\n",
       "    </tr>\n",
       "    <tr>\n",
       "      <th>26</th>\n",
       "      <td>15.916678</td>\n",
       "      <td>381.043377</td>\n",
       "      <td>386.613673</td>\n",
       "      <td>5.570296</td>\n",
       "    </tr>\n",
       "    <tr>\n",
       "      <th>27</th>\n",
       "      <td>25.935375</td>\n",
       "      <td>648.209998</td>\n",
       "      <td>601.141065</td>\n",
       "      <td>-47.068932</td>\n",
       "    </tr>\n",
       "    <tr>\n",
       "      <th>28</th>\n",
       "      <td>35.217240</td>\n",
       "      <td>809.777726</td>\n",
       "      <td>799.890885</td>\n",
       "      <td>-9.886841</td>\n",
       "    </tr>\n",
       "    <tr>\n",
       "      <th>29</th>\n",
       "      <td>18.908489</td>\n",
       "      <td>449.813300</td>\n",
       "      <td>450.676430</td>\n",
       "      <td>0.863130</td>\n",
       "    </tr>\n",
       "    <tr>\n",
       "      <th>30</th>\n",
       "      <td>37.057542</td>\n",
       "      <td>870.765916</td>\n",
       "      <td>839.296734</td>\n",
       "      <td>-31.469182</td>\n",
       "    </tr>\n",
       "    <tr>\n",
       "      <th>31</th>\n",
       "      <td>17.690032</td>\n",
       "      <td>385.672501</td>\n",
       "      <td>424.585971</td>\n",
       "      <td>38.913471</td>\n",
       "    </tr>\n",
       "    <tr>\n",
       "      <th>32</th>\n",
       "      <td>22.387604</td>\n",
       "      <td>493.115468</td>\n",
       "      <td>525.173689</td>\n",
       "      <td>32.058222</td>\n",
       "    </tr>\n",
       "    <tr>\n",
       "      <th>33</th>\n",
       "      <td>15.214569</td>\n",
       "      <td>353.325633</td>\n",
       "      <td>371.579634</td>\n",
       "      <td>18.254000</td>\n",
       "    </tr>\n",
       "    <tr>\n",
       "      <th>34</th>\n",
       "      <td>27.312811</td>\n",
       "      <td>623.598861</td>\n",
       "      <td>630.635700</td>\n",
       "      <td>7.036839</td>\n",
       "    </tr>\n",
       "    <tr>\n",
       "      <th>35</th>\n",
       "      <td>25.227774</td>\n",
       "      <td>563.250987</td>\n",
       "      <td>585.989407</td>\n",
       "      <td>22.738420</td>\n",
       "    </tr>\n",
       "    <tr>\n",
       "      <th>36</th>\n",
       "      <td>18.578119</td>\n",
       "      <td>427.138369</td>\n",
       "      <td>443.602328</td>\n",
       "      <td>16.463958</td>\n",
       "    </tr>\n",
       "    <tr>\n",
       "      <th>37</th>\n",
       "      <td>31.471224</td>\n",
       "      <td>691.516541</td>\n",
       "      <td>719.678561</td>\n",
       "      <td>28.162020</td>\n",
       "    </tr>\n",
       "    <tr>\n",
       "      <th>38</th>\n",
       "      <td>32.334808</td>\n",
       "      <td>747.963270</td>\n",
       "      <td>738.170224</td>\n",
       "      <td>-9.793046</td>\n",
       "    </tr>\n",
       "    <tr>\n",
       "      <th>39</th>\n",
       "      <td>17.188948</td>\n",
       "      <td>390.879119</td>\n",
       "      <td>413.856411</td>\n",
       "      <td>22.977292</td>\n",
       "    </tr>\n",
       "    <tr>\n",
       "      <th>40</th>\n",
       "      <td>28.787436</td>\n",
       "      <td>633.504009</td>\n",
       "      <td>662.211388</td>\n",
       "      <td>28.707379</td>\n",
       "    </tr>\n",
       "    <tr>\n",
       "      <th>41</th>\n",
       "      <td>28.729915</td>\n",
       "      <td>631.318237</td>\n",
       "      <td>660.979713</td>\n",
       "      <td>29.661476</td>\n",
       "    </tr>\n",
       "    <tr>\n",
       "      <th>42</th>\n",
       "      <td>24.472432</td>\n",
       "      <td>596.876750</td>\n",
       "      <td>569.815502</td>\n",
       "      <td>-27.061249</td>\n",
       "    </tr>\n",
       "    <tr>\n",
       "      <th>43</th>\n",
       "      <td>36.702572</td>\n",
       "      <td>841.171427</td>\n",
       "      <td>831.695859</td>\n",
       "      <td>-9.475568</td>\n",
       "    </tr>\n",
       "    <tr>\n",
       "      <th>44</th>\n",
       "      <td>26.005191</td>\n",
       "      <td>625.190122</td>\n",
       "      <td>602.636015</td>\n",
       "      <td>-22.554107</td>\n",
       "    </tr>\n",
       "    <tr>\n",
       "      <th>45</th>\n",
       "      <td>25.499684</td>\n",
       "      <td>583.084449</td>\n",
       "      <td>591.811735</td>\n",
       "      <td>8.727286</td>\n",
       "    </tr>\n",
       "    <tr>\n",
       "      <th>46</th>\n",
       "      <td>22.653136</td>\n",
       "      <td>532.054020</td>\n",
       "      <td>530.859449</td>\n",
       "      <td>-1.194571</td>\n",
       "    </tr>\n",
       "    <tr>\n",
       "      <th>47</th>\n",
       "      <td>13.112452</td>\n",
       "      <td>332.150105</td>\n",
       "      <td>326.567623</td>\n",
       "      <td>-5.582483</td>\n",
       "    </tr>\n",
       "    <tr>\n",
       "      <th>48</th>\n",
       "      <td>12.062475</td>\n",
       "      <td>300.932273</td>\n",
       "      <td>304.084777</td>\n",
       "      <td>3.152504</td>\n",
       "    </tr>\n",
       "    <tr>\n",
       "      <th>49</th>\n",
       "      <td>24.818754</td>\n",
       "      <td>598.676197</td>\n",
       "      <td>577.231179</td>\n",
       "      <td>-21.445018</td>\n",
       "    </tr>\n",
       "  </tbody>\n",
       "</table>\n",
       "</div>"
      ],
      "text/plain": [
       "            x      y_test      y_pred  Residuals\n",
       "0   25.457836  612.153949  590.915669 -21.238280\n",
       "1   29.430578  618.235765  675.982817  57.747052\n",
       "2   27.599066  634.121978  636.765193   2.643215\n",
       "3   30.427792  704.281439  697.335851  -6.945588\n",
       "4   24.802577  563.301280  576.884790  13.583510\n",
       "5   24.521847  538.312890  570.873601  32.560711\n",
       "6   23.349034  586.138767  545.760514 -40.378253\n",
       "7   21.026398  521.775445  496.026598 -25.748848\n",
       "8   14.866103  296.906532  364.118036  67.211504\n",
       "9   25.002380  550.701404  581.163110  30.461707\n",
       "10  18.880356  476.794525  450.074034 -26.720491\n",
       "11  25.116070  587.221246  583.597526  -3.623720\n",
       "12  29.209715  654.747461  671.253530  16.506069\n",
       "13  30.965087  702.623614  708.840782   6.217169\n",
       "14  14.896972  384.699415  364.779023 -19.920393\n",
       "15  20.226420  475.538209  478.896913   3.358704\n",
       "16  17.262181  415.817674  415.424536  -0.393139\n",
       "17  34.472169  809.352519  783.936903 -25.415616\n",
       "18  17.993020  413.914067  431.073776  17.159709\n",
       "19  19.194951  463.065614  456.810369  -6.255245\n",
       "20  22.171199  515.459102  520.539876   5.080774\n",
       "21  33.744209  797.566536  768.349301 -29.217235\n",
       "22  20.411031  513.804382  482.849928 -30.954454\n",
       "23  17.299204  405.915159  416.217292  10.302133\n",
       "24  28.464933  607.839194  655.305736  47.466543\n",
       "25  26.874953  634.584751  621.259966 -13.324785\n",
       "26  15.916678  381.043377  386.613673   5.570296\n",
       "27  25.935375  648.209998  601.141065 -47.068932\n",
       "28  35.217240  809.777726  799.890885  -9.886841\n",
       "29  18.908489  449.813300  450.676430   0.863130\n",
       "30  37.057542  870.765916  839.296734 -31.469182\n",
       "31  17.690032  385.672501  424.585971  38.913471\n",
       "32  22.387604  493.115468  525.173689  32.058222\n",
       "33  15.214569  353.325633  371.579634  18.254000\n",
       "34  27.312811  623.598861  630.635700   7.036839\n",
       "35  25.227774  563.250987  585.989407  22.738420\n",
       "36  18.578119  427.138369  443.602328  16.463958\n",
       "37  31.471224  691.516541  719.678561  28.162020\n",
       "38  32.334808  747.963270  738.170224  -9.793046\n",
       "39  17.188948  390.879119  413.856411  22.977292\n",
       "40  28.787436  633.504009  662.211388  28.707379\n",
       "41  28.729915  631.318237  660.979713  29.661476\n",
       "42  24.472432  596.876750  569.815502 -27.061249\n",
       "43  36.702572  841.171427  831.695859  -9.475568\n",
       "44  26.005191  625.190122  602.636015 -22.554107\n",
       "45  25.499684  583.084449  591.811735   8.727286\n",
       "46  22.653136  532.054020  530.859449  -1.194571\n",
       "47  13.112452  332.150105  326.567623  -5.582483\n",
       "48  12.062475  300.932273  304.084777   3.152504\n",
       "49  24.818754  598.676197  577.231179 -21.445018"
      ]
     },
     "execution_count": 44,
     "metadata": {},
     "output_type": "execute_result"
    }
   ],
   "source": [
    "prediction"
   ]
  },
  {
   "cell_type": "code",
   "execution_count": 45,
   "id": "afc3a1c0",
   "metadata": {},
   "outputs": [
    {
     "data": {
      "text/plain": [
       "array([[21.41270325]])"
      ]
     },
     "execution_count": 45,
     "metadata": {},
     "output_type": "execute_result"
    }
   ],
   "source": [
    "lr.coef_"
   ]
  },
  {
   "cell_type": "code",
   "execution_count": 46,
   "id": "67c0eb2e",
   "metadata": {},
   "outputs": [
    {
     "data": {
      "text/plain": [
       "array([45.79457379])"
      ]
     },
     "execution_count": 46,
     "metadata": {},
     "output_type": "execute_result"
    }
   ],
   "source": [
    "lr.intercept_"
   ]
  },
  {
   "cell_type": "code",
   "execution_count": 49,
   "id": "2d16d64d",
   "metadata": {},
   "outputs": [
    {
     "data": {
      "text/plain": [
       "415    20.016384\n",
       "Name: Temperature, dtype: float64"
      ]
     },
     "execution_count": 49,
     "metadata": {},
     "output_type": "execute_result"
    }
   ],
   "source": [
    "x = df['Temperature'].sample(1)\n",
    "x"
   ]
  },
  {
   "cell_type": "code",
   "execution_count": 52,
   "id": "a28a108d",
   "metadata": {},
   "outputs": [
    {
     "data": {
      "text/plain": [
       "array([[474.39946457]])"
      ]
     },
     "execution_count": 52,
     "metadata": {},
     "output_type": "execute_result"
    }
   ],
   "source": [
    "y_pred1 = 20.016384*lr.coef_ + lr.intercept_\n",
    "y_pred1"
   ]
  },
  {
   "cell_type": "code",
   "execution_count": 53,
   "id": "df1c9b8b",
   "metadata": {},
   "outputs": [
    {
     "data": {
      "text/plain": [
       "Temperature     20.016384\n",
       "Revenue        477.315188\n",
       "Name: 415, dtype: float64"
      ]
     },
     "execution_count": 53,
     "metadata": {},
     "output_type": "execute_result"
    }
   ],
   "source": [
    "df.iloc[415,:]"
   ]
  },
  {
   "cell_type": "code",
   "execution_count": 60,
   "id": "2ff5e481",
   "metadata": {},
   "outputs": [
    {
     "data": {
      "text/plain": [
       "20.185042710307865"
      ]
     },
     "execution_count": 60,
     "metadata": {},
     "output_type": "execute_result"
    }
   ],
   "source": [
    "mae = mean_absolute_error(y_true=y_test,y_pred=y_pred)\n",
    "mae"
   ]
  },
  {
   "cell_type": "code",
   "execution_count": 63,
   "id": "eb745914",
   "metadata": {},
   "outputs": [
    {
     "data": {
      "text/plain": [
       "634.0643367410028"
      ]
     },
     "execution_count": 63,
     "metadata": {},
     "output_type": "execute_result"
    }
   ],
   "source": [
    "mse = mean_squared_error(y_true=y_test,y_pred=y_pred)\n",
    "mse"
   ]
  }
 ],
 "metadata": {
  "kernelspec": {
   "display_name": "Python 3 (ipykernel)",
   "language": "python",
   "name": "python3"
  },
  "language_info": {
   "codemirror_mode": {
    "name": "ipython",
    "version": 3
   },
   "file_extension": ".py",
   "mimetype": "text/x-python",
   "name": "python",
   "nbconvert_exporter": "python",
   "pygments_lexer": "ipython3",
   "version": "3.9.12"
  }
 },
 "nbformat": 4,
 "nbformat_minor": 5
}

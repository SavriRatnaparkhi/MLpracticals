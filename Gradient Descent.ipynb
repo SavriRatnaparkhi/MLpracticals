{
 "cells": [
  {
   "cell_type": "code",
   "execution_count": 54,
   "id": "46f42a7f",
   "metadata": {},
   "outputs": [],
   "source": [
    "import pandas as pd\n",
    "import numpy as np\n",
    "from sklearn.datasets import make_regression\n",
    "import matplotlib.pyplot as plt\n",
    "from sklearn.linear_model import LinearRegression\n",
    "from sklearn.metrics import mean_squared_error, r2_score"
   ]
  },
  {
   "cell_type": "code",
   "execution_count": 55,
   "id": "c4060fab",
   "metadata": {},
   "outputs": [],
   "source": [
    "x,y = make_regression(n_samples=1000,n_features=1,noise=6)"
   ]
  },
  {
   "cell_type": "code",
   "execution_count": 56,
   "id": "ca187a09",
   "metadata": {},
   "outputs": [],
   "source": [
    "df = pd.DataFrame(x,y)"
   ]
  },
  {
   "cell_type": "code",
   "execution_count": 57,
   "id": "673fba15",
   "metadata": {},
   "outputs": [
    {
     "data": {
      "text/html": [
       "<div>\n",
       "<style scoped>\n",
       "    .dataframe tbody tr th:only-of-type {\n",
       "        vertical-align: middle;\n",
       "    }\n",
       "\n",
       "    .dataframe tbody tr th {\n",
       "        vertical-align: top;\n",
       "    }\n",
       "\n",
       "    .dataframe thead th {\n",
       "        text-align: right;\n",
       "    }\n",
       "</style>\n",
       "<table border=\"1\" class=\"dataframe\">\n",
       "  <thead>\n",
       "    <tr style=\"text-align: right;\">\n",
       "      <th></th>\n",
       "      <th>0</th>\n",
       "    </tr>\n",
       "  </thead>\n",
       "  <tbody>\n",
       "    <tr>\n",
       "      <th>44.310840</th>\n",
       "      <td>0.842451</td>\n",
       "    </tr>\n",
       "    <tr>\n",
       "      <th>-67.428134</th>\n",
       "      <td>-1.074020</td>\n",
       "    </tr>\n",
       "    <tr>\n",
       "      <th>80.071146</th>\n",
       "      <td>1.415616</td>\n",
       "    </tr>\n",
       "    <tr>\n",
       "      <th>99.349682</th>\n",
       "      <td>1.642993</td>\n",
       "    </tr>\n",
       "    <tr>\n",
       "      <th>12.604847</th>\n",
       "      <td>0.243109</td>\n",
       "    </tr>\n",
       "    <tr>\n",
       "      <th>...</th>\n",
       "      <td>...</td>\n",
       "    </tr>\n",
       "    <tr>\n",
       "      <th>68.024144</th>\n",
       "      <td>1.183671</td>\n",
       "    </tr>\n",
       "    <tr>\n",
       "      <th>-100.243535</th>\n",
       "      <td>-1.817977</td>\n",
       "    </tr>\n",
       "    <tr>\n",
       "      <th>13.225283</th>\n",
       "      <td>0.244313</td>\n",
       "    </tr>\n",
       "    <tr>\n",
       "      <th>3.572331</th>\n",
       "      <td>0.172520</td>\n",
       "    </tr>\n",
       "    <tr>\n",
       "      <th>-118.942102</th>\n",
       "      <td>-2.162445</td>\n",
       "    </tr>\n",
       "  </tbody>\n",
       "</table>\n",
       "<p>1000 rows × 1 columns</p>\n",
       "</div>"
      ],
      "text/plain": [
       "                    0\n",
       " 44.310840   0.842451\n",
       "-67.428134  -1.074020\n",
       " 80.071146   1.415616\n",
       " 99.349682   1.642993\n",
       " 12.604847   0.243109\n",
       "...               ...\n",
       " 68.024144   1.183671\n",
       "-100.243535 -1.817977\n",
       " 13.225283   0.244313\n",
       " 3.572331    0.172520\n",
       "-118.942102 -2.162445\n",
       "\n",
       "[1000 rows x 1 columns]"
      ]
     },
     "execution_count": 57,
     "metadata": {},
     "output_type": "execute_result"
    }
   ],
   "source": [
    "df"
   ]
  },
  {
   "cell_type": "code",
   "execution_count": 58,
   "id": "922616f9",
   "metadata": {},
   "outputs": [],
   "source": [
    "df=df.reset_index()"
   ]
  },
  {
   "cell_type": "code",
   "execution_count": 59,
   "id": "f96e862a",
   "metadata": {},
   "outputs": [],
   "source": [
    "df.columns=['Y','X1']"
   ]
  },
  {
   "cell_type": "code",
   "execution_count": 38,
   "id": "22d292d9",
   "metadata": {},
   "outputs": [
    {
     "data": {
      "text/html": [
       "<div>\n",
       "<style scoped>\n",
       "    .dataframe tbody tr th:only-of-type {\n",
       "        vertical-align: middle;\n",
       "    }\n",
       "\n",
       "    .dataframe tbody tr th {\n",
       "        vertical-align: top;\n",
       "    }\n",
       "\n",
       "    .dataframe thead th {\n",
       "        text-align: right;\n",
       "    }\n",
       "</style>\n",
       "<table border=\"1\" class=\"dataframe\">\n",
       "  <thead>\n",
       "    <tr style=\"text-align: right;\">\n",
       "      <th></th>\n",
       "      <th>Y</th>\n",
       "      <th>X1</th>\n",
       "    </tr>\n",
       "  </thead>\n",
       "  <tbody>\n",
       "    <tr>\n",
       "      <th>0</th>\n",
       "      <td>48.804599</td>\n",
       "      <td>0.866649</td>\n",
       "    </tr>\n",
       "    <tr>\n",
       "      <th>1</th>\n",
       "      <td>73.059119</td>\n",
       "      <td>1.268533</td>\n",
       "    </tr>\n",
       "    <tr>\n",
       "      <th>2</th>\n",
       "      <td>-55.500446</td>\n",
       "      <td>-1.190786</td>\n",
       "    </tr>\n",
       "    <tr>\n",
       "      <th>3</th>\n",
       "      <td>-44.186239</td>\n",
       "      <td>-0.807166</td>\n",
       "    </tr>\n",
       "    <tr>\n",
       "      <th>4</th>\n",
       "      <td>51.481837</td>\n",
       "      <td>1.150155</td>\n",
       "    </tr>\n",
       "    <tr>\n",
       "      <th>...</th>\n",
       "      <td>...</td>\n",
       "      <td>...</td>\n",
       "    </tr>\n",
       "    <tr>\n",
       "      <th>995</th>\n",
       "      <td>66.897040</td>\n",
       "      <td>1.468412</td>\n",
       "    </tr>\n",
       "    <tr>\n",
       "      <th>996</th>\n",
       "      <td>-29.527777</td>\n",
       "      <td>-0.613834</td>\n",
       "    </tr>\n",
       "    <tr>\n",
       "      <th>997</th>\n",
       "      <td>25.665834</td>\n",
       "      <td>0.523596</td>\n",
       "    </tr>\n",
       "    <tr>\n",
       "      <th>998</th>\n",
       "      <td>29.591450</td>\n",
       "      <td>0.613192</td>\n",
       "    </tr>\n",
       "    <tr>\n",
       "      <th>999</th>\n",
       "      <td>-29.456604</td>\n",
       "      <td>-0.651159</td>\n",
       "    </tr>\n",
       "  </tbody>\n",
       "</table>\n",
       "<p>1000 rows × 2 columns</p>\n",
       "</div>"
      ],
      "text/plain": [
       "             Y        X1\n",
       "0    48.804599  0.866649\n",
       "1    73.059119  1.268533\n",
       "2   -55.500446 -1.190786\n",
       "3   -44.186239 -0.807166\n",
       "4    51.481837  1.150155\n",
       "..         ...       ...\n",
       "995  66.897040  1.468412\n",
       "996 -29.527777 -0.613834\n",
       "997  25.665834  0.523596\n",
       "998  29.591450  0.613192\n",
       "999 -29.456604 -0.651159\n",
       "\n",
       "[1000 rows x 2 columns]"
      ]
     },
     "execution_count": 38,
     "metadata": {},
     "output_type": "execute_result"
    }
   ],
   "source": [
    "df"
   ]
  },
  {
   "cell_type": "code",
   "execution_count": 39,
   "id": "302df308",
   "metadata": {},
   "outputs": [
    {
     "data": {
      "text/html": [
       "<div>\n",
       "<style scoped>\n",
       "    .dataframe tbody tr th:only-of-type {\n",
       "        vertical-align: middle;\n",
       "    }\n",
       "\n",
       "    .dataframe tbody tr th {\n",
       "        vertical-align: top;\n",
       "    }\n",
       "\n",
       "    .dataframe thead th {\n",
       "        text-align: right;\n",
       "    }\n",
       "</style>\n",
       "<table border=\"1\" class=\"dataframe\">\n",
       "  <thead>\n",
       "    <tr style=\"text-align: right;\">\n",
       "      <th></th>\n",
       "      <th>Y</th>\n",
       "      <th>X1</th>\n",
       "    </tr>\n",
       "  </thead>\n",
       "  <tbody>\n",
       "    <tr>\n",
       "      <th>Y</th>\n",
       "      <td>1.000000</td>\n",
       "      <td>0.991802</td>\n",
       "    </tr>\n",
       "    <tr>\n",
       "      <th>X1</th>\n",
       "      <td>0.991802</td>\n",
       "      <td>1.000000</td>\n",
       "    </tr>\n",
       "  </tbody>\n",
       "</table>\n",
       "</div>"
      ],
      "text/plain": [
       "           Y        X1\n",
       "Y   1.000000  0.991802\n",
       "X1  0.991802  1.000000"
      ]
     },
     "execution_count": 39,
     "metadata": {},
     "output_type": "execute_result"
    }
   ],
   "source": [
    "df.corr()"
   ]
  },
  {
   "cell_type": "code",
   "execution_count": 40,
   "id": "22d309a3",
   "metadata": {},
   "outputs": [
    {
     "data": {
      "text/plain": [
       "<matplotlib.collections.PathCollection at 0x182e07fa130>"
      ]
     },
     "execution_count": 40,
     "metadata": {},
     "output_type": "execute_result"
    },
    {
     "data": {
      "image/png": "[encoded data removed]",
      "text/plain": [
       "<Figure size 432x288 with 1 Axes>"
      ]
     },
     "metadata": {
      "needs_background": "light"
     },
     "output_type": "display_data"
    }
   ],
   "source": [
    "plt.scatter(df['X1'],df['Y'])"
   ]
  },
  {
   "cell_type": "code",
   "execution_count": 41,
   "id": "fd400c55",
   "metadata": {},
   "outputs": [],
   "source": [
    "LR = LinearRegression()"
   ]
  },
  {
   "cell_type": "code",
   "execution_count": 42,
   "id": "90a7c93e",
   "metadata": {},
   "outputs": [
    {
     "data": {
      "text/plain": [
       "0      0.866649\n",
       "1      1.268533\n",
       "2     -1.190786\n",
       "3     -0.807166\n",
       "4      1.150155\n",
       "         ...   \n",
       "995    1.468412\n",
       "996   -0.613834\n",
       "997    0.523596\n",
       "998    0.613192\n",
       "999   -0.651159\n",
       "Name: X1, Length: 1000, dtype: float64"
      ]
     },
     "execution_count": 42,
     "metadata": {},
     "output_type": "execute_result"
    }
   ],
   "source": [
    "x1 = df.iloc[:,-1]\n",
    "x1"
   ]
  },
  {
   "cell_type": "code",
   "execution_count": 43,
   "id": "042c0977",
   "metadata": {},
   "outputs": [
    {
     "data": {
      "text/plain": [
       "LinearRegression()"
      ]
     },
     "execution_count": 43,
     "metadata": {},
     "output_type": "execute_result"
    }
   ],
   "source": [
    "LR.fit(x,y)"
   ]
  },
  {
   "cell_type": "code",
   "execution_count": 44,
   "id": "429ad1c4",
   "metadata": {},
   "outputs": [],
   "source": [
    "m = LR.coef_\n",
    "b = LR.intercept_"
   ]
  },
  {
   "cell_type": "code",
   "execution_count": 45,
   "id": "4eae0aaf",
   "metadata": {},
   "outputs": [
    {
     "name": "stdout",
     "output_type": "stream",
     "text": [
      "[47.20513703]\n",
      "-0.25913996352717183\n"
     ]
    }
   ],
   "source": [
    "print(m) \n",
    "print(b)"
   ]
  },
  {
   "cell_type": "code",
   "execution_count": 46,
   "id": "06138529",
   "metadata": {},
   "outputs": [],
   "source": [
    "m = 0\n",
    "b =0\n",
    "lr = 0.12\n",
    "x1 = df['X1']\n",
    "y1=df['Y']"
   ]
  },
  {
   "cell_type": "code",
   "execution_count": 63,
   "id": "e966faf8",
   "metadata": {},
   "outputs": [
    {
     "name": "stdout",
     "output_type": "stream",
     "text": [
      "Slope 105.27383046473176, yintercept -3.8609794745150694, Loss 50.618801075524985\n",
      "Slope 6.722486844034748, yintercept 4.806389878293107, Loss 47.55404482795411\n",
      "Slope 99.01913598440483, yintercept -5.552018442345284, Loss 44.73298228925335\n",
      "Slope 12.54176328051119, yintercept 6.390104768038569, Loss 42.14031393723238\n",
      "Slope 93.60514453993976, yintercept -7.0358805765917225, Loss 39.761733577701186\n",
      "Slope 17.578516676148737, yintercept 7.781068417416787, Loss 37.58382801319881\n",
      "Slope 88.91952394068375, yintercept -8.340418755241142, Loss 35.59398129943161\n",
      "Slope 21.937302460816923, yintercept 9.005206200387118, Loss 33.780284449363194\n",
      "Slope 84.86495714507356, yintercept -9.489764289384635, Loss 32.131451764596555\n",
      "Slope 25.708700389545463, yintercept 10.084979568417523, Loss 30.63674521628624\n",
      "Slope 81.35713527335056, yintercept -10.504824375724837, Loss 29.285908406447444\n",
      "Slope 28.971182589144725, yintercept 11.039849065168998, Loss 28.069111562578534\n",
      "Slope 78.32301888295584, yintercept -11.403713057515446, Loss 26.976908719381683\n",
      "Slope 31.792731913559514, yintercept 11.886675452722024, Loss 26.0002077183915\n",
      "Slope 75.6993316494488, yintercept -12.20212458148626, Loss 25.130252948324515\n",
      "Slope 34.23224398277746, yintercept 12.640067221626534, Loss 24.358619936772712\n",
      "Slope 73.4312553886154, yintercept -12.9136568503578, Loss 23.677220099258196\n",
      "Slope 36.34074181908949, yintercept 13.312681651347734, Loss 23.078313275906243\n",
      "Slope 71.47129950762648, yintercept -13.550091641387187, Loss 22.554525243359105\n",
      "Slope 38.16242812975565, yintercept 13.915485629765001, Loss 22.098867243752903\n",
      "Slope 69.77832157030048, yintercept -14.121637369786516, Loss 21.704754733469084\n",
      "Slope 39.73559693696423, yintercept 14.457981610504742, Loss 21.366022978795733\n",
      "Slope 68.31667877790167, yintercept -14.637139403429977, Loss 21.076937731225524\n",
      "Slope 41.09342335533688, yintercept 14.948403367936976, Loss 20.83219990170835\n",
      "Slope 67.05549286673424, yintercept -15.104262266086561, Loss 20.626943824783876\n",
      "Slope 42.26464780430883, yintercept 15.393885586812278, Loss 20.456729285039437\n",
      "Slope 65.96801326274935, yintercept -15.529647486681352, Loss 20.317527923961865\n",
      "Slope 43.27416876567817, yintercept 15.80061078391579, Loss 20.205704938737096\n",
      "Slope 65.0310653597058, yintercept -15.919050349844017, Loss 20.117997133682056\n",
      "Slope 44.14355631057454, yintercept 16.173936591640516, Loss 20.051488413276143\n",
      "Slope 64.22457254289966, yintercept -16.277458367891267, Loss 20.0035837440623\n",
      "Slope 44.89149698615145, yintercept 16.51850602839208, Loss 19.971982492515497\n",
      "Slope 63.53114210130936, yintercept -16.609193917436844, Loss 19.954651895064544\n",
      "Slope 45.53417923675993, yintercept 16.838343029880082, Loss 19.949801256577512\n",
      "Slope 62.93570648855297, yintercept -16.918003157254812, Loss 19.955857320116568\n",
      "Slope 46.08562730802337, yintercept 17.136935211391066, Loss 19.971441113134087\n",
      "Slope 62.42521253449454, yintercept -17.20713306110441, Loss 19.995346458316124\n",
      "Slope 46.55799051981304, yintercept 17.417305567806412, Loss 20.02652024235546\n",
      "Slope 61.98835219820738, yintercept -17.479398154123455, Loss 20.064044462164556\n",
      "Slope 46.961793873711, yintercept 17.682074589995562, Loss 20.107120013220534\n",
      "Slope 61.61532930969595, yintercept -17.737238329056996, Loss 20.15505214605694\n",
      "Slope 47.306155163160795, yintercept 17.93351407857426, Loss 20.207237491434096\n",
      "Slope 61.297657489962475, yintercept -17.982768934630375, Loss 20.26315253964342\n",
      "Slope 47.598973063702374, yintercept 18.173593764795203, Loss 20.32234345225541\n",
      "Slope 61.02798508198525, yintercept -18.217824169006203, Loss 20.38441708331379\n",
      "Slope 47.84709008221912, yintercept 18.404021700002044, Loss 20.449033089799666\n",
      "Slope 60.79994348221285, yintercept -18.44399467319811, Loss 20.51589701678685\n",
      "Slope 48.05643372565075, yintercept 18.626279246568675, Loss 20.584754250042312\n",
      "Slope 60.60801574475971, yintercept -18.66266009970119, Loss 20.65538473711358\n",
      "Slope 48.232138800452674, yintercept 18.84165139191376, Loss 20.727598386619842\n",
      "Slope 60.44742274856581, yintercept -18.875017327974422, Loss 20.801231064124444\n",
      "Slope 48.378653364948235, yintercept 19.051253010729557, Loss 20.87614111134179\n",
      "Slope 60.314024579978486, yintercept -19.082104908636968, Loss 20.952206323347873\n",
      "Slope 48.499830519599044, yintercept 19.256051617005458, Loss 21.029321325817545\n",
      "Slope 60.204235096997024, yintercept -19.2848242404657, Loss 21.107395301055032\n",
      "Slope 48.599007928158656, yintercept 19.456887075036438, Loss 21.186350017702658\n",
      "Slope 60.11494791326199, yintercept -19.483957916903027, Loss 21.266118124518652\n",
      "Slope 48.67907670965286, yintercept 19.654488675892882, Loss 21.346641673536286\n",
      "Slope 60.04347227537664, yintercept -19.68018562041176, Loss 21.42787084229109\n",
      "Slope 48.7425411219279, yintercept 19.84948993149666, Loss 21.50976282867339\n",
      "Slope 59.98747751117488, yintercept -19.87409789244327, Loss 21.59228089537545\n",
      "Slope 48.79157026760554, yintercept 20.042441391379082, Loss 21.67539354390031\n",
      "Slope 59.94494490330606, yintercept -20.066208062974848, Loss 21.759073800726448\n",
      "Slope 48.82804288876448, yintercept 20.233821746418894, Loss 21.84329860051971\n",
      "Slope 59.914125995636624, yintercept -20.256962585617327, Loss 21.928048253288267\n",
      "Slope 48.85358617413871, yintercept 20.424047448530867, Loss 22.01330598412326\n",
      "Slope 59.89350647263062, yintercept -20.446749991412407, Loss 22.099057535687166\n",
      "Slope 48.86960937914584, yintercept 20.613481044670802, Loss 22.185290824933027\n",
      "Slope 59.881774866800725, yintercept -20.635908645952743, Loss 22.27199564668392\n",
      "Slope 48.877332952084494, yintercept 20.802438397007787, Loss 22.35916341769731\n",
      "Slope 59.87779544888913, yintercept -20.82473346977891, Loss 22.446786955700468\n",
      "Slope 48.87781376716583, yintercept 20.99119493814484, Loss 22.53486028863091\n",
      "Slope 59.88058474169664, yintercept -21.01348176062724, Loss 22.623378489961876\n",
      "Slope 48.87196698475623, yintercept 21.179991090368336, Loss 22.712337536553093\n",
      "Slope 59.88929117320774, yintercept -21.202378237580238, Loss 22.801734185950995\n",
      "Slope 48.86058498965256, yintercept 21.369036960667135, Loss 22.891565870481582\n",
      "Slope 59.903177449399834, yintercept -21.391619411124477, Loss 22.98183060584095\n",
      "Slope 48.844353797952664, yintercept 21.558516408326124, Loss 23.07252691220164\n",
      "Slope 59.921605283212266, yintercept -21.58137736921925, Loss 23.163653746123295\n",
      "Slope 48.823867270879305, yintercept 21.748590568959845, Loss 23.255210441789842\n",
      "Slope 59.94402216474063, yintercept -21.771803057435694, Loss 23.347196660297172\n",
      "Slope 48.799639428689474, yintercept 21.939400907641808, Loss 23.43961234588976\n",
      "Slope 59.96994989981779, yintercept -21.963029120792168, Loss 23.53245768819524\n",
      "Slope 48.772115118619645, yintercept 22.131071864073835, Loss 23.62573308963586\n",
      "Slope 59.9989746806115, yintercept -22.15517236587274, Loss 23.719439137308147\n",
      "Slope 48.741679256873425, yintercept 22.323713144326252, Loss 23.813576578719072\n",
      "Slope 60.03073848346287, yintercept -22.34833589398441, Loss 23.908146300850646\n",
      "Slope 48.70866483525093, yintercept 22.51742170639093, Loss 24.00314931209714\n",
      "Slope 60.0649316165614, yintercept -22.5426109493247, Loss 24.09858672668155\n",
      "Slope 48.67335985754309, yintercept 22.712283480474742, Loss 24.19445975121181\n",
      "Slope 60.10128626376443, yintercept -22.738078520253783, Loss 24.290769673083588\n",
      "Slope 48.63601334874273, yintercept 22.908374859490277, Loss 24.38751785047684\n",
      "Slope 60.139570891412475, yintercept -22.934810726673323, Loss 24.48470570372779\n",
      "Slope 48.59684056100362, yintercept 23.10576399046146, Loss 24.582334707887863\n",
      "Slope 60.17958540278893, yintercept -23.13287202210326, Loss 24.68040638630711\n",
      "Slope 48.5560274837132, yintercept 23.304511893455842, Loss 24.77892230510165\n",
      "Slope 60.221156940291, yintercept -23.332320235225946, Loss 24.877884068384137\n",
      "Slope 48.51373475069407, yintercept 23.50467343109838, Loss 24.977293314152647\n",
      "Slope 60.26413624873626, yintercept -23.53320747235632, Loss 25.077151710747827\n",
      "Slope 48.47010102511613, yintercept 23.706298148639686, Loss 25.177460953800505\n",
      "Slope 60.30839452480136, yintercept -23.73558089942865, Loss 25.278222763602407\n",
      "Slope 48.4252459319307, yintercept 23.909431001882428, Loss 25.379438882842287\n",
      "Slope 60.353820687614615, yintercept -23.939483419605363, Loss 25.481111074657154\n",
      "Slope 48.3792725983064, yintercept 24.11411298795635, Loss 25.583241120955563\n",
      "Slope 60.400319014209515, yintercept -24.144954260460796, Loss 25.685830820975745\n",
      "Slope 48.332269854462716, yintercept 24.320381691928834, Loss 25.7888819900463\n",
      "Slope 60.44780709107059, yintercept -24.3520294828278, Loss 25.892396458521787\n",
      "Slope 48.2843141402936, yintercept 24.528271760502175, Loss 25.996376070869225\n",
      "Slope 60.49621403952163, yintercept -24.560742421779263, Loss 26.100822684884896\n",
      "Slope 48.23547115710632, yintercept 24.737815312544623, Loss 26.205738171023516\n",
      "Slope 60.54547897835368, yintercept -24.771124068817077, Loss 26.311124411824455\n",
      "Slope 48.18579729854401, yintercept 24.94904229489956, Loss 26.416983301421777\n",
      "Slope 60.595549691982534, yintercept -24.983203403128112, Loss 26.523316745126483\n",
      "Slope 48.13534089020715, yintercept 25.161980790788537, Loss 26.63012665907121\n",
      "Slope 60.64638147666419, yintercept -25.197007678716684, Loss 26.73741496990878\n",
      "Slope 48.08414326354353, yintercept 25.376657287145928, Loss 26.845183614557296\n",
      "Slope 60.697936140968494, yintercept -25.412562673312326, Loss 26.953434539985302\n",
      "Slope 48.03223968615895, yintercept 25.593096906375887, Loss 27.062169703031717\n",
      "Slope 60.7501811398925, yintercept -25.62989290416363, Loss 27.171391070255588\n",
      "Slope 47.97966016773967, yintercept 25.811323607288475, Loss 27.2811006178118\n",
      "Slope 60.803088824751086, yintercept -25.84902181514551, Loss 27.391300331349015\n",
      "Slope 47.92643015821251, yintercept 26.031360359335796, Loss 27.501992205926975\n",
      "Slope 60.856635793369776, yintercept -26.06997193901569, Loss 27.61317824595041\n",
      "Slope 47.87257115254647, yintercept 26.25322929371851, Loss 27.72486046511738\n",
      "Slope 60.91080232717329, yintercept -26.292765038143433, Loss 27.83704088638003\n",
      "Slope 47.81810121467385, yintercept 26.47695183445556, Loss 27.949721541916112\n",
      "Slope 60.96557190355534, yintercept -26.51742222658932, Loss 28.062904473109814\n",
      "Slope 47.763035431341834, yintercept 26.70254881209672, Loss 28.176591730540643\n",
      "Slope 61.02093077346756, yintercept -26.74396407603017, Loss 28.29078537397924\n",
      "Slope 47.70738630525955, yintercept 26.93004056239936, Loss 28.40548747238926\n",
      "Slope 61.076867595510436, yintercept -26.972410707689807, Loss 28.52070010393447\n",
      "Slope 47.651164095654664, yintercept 27.159447011980657, Loss 28.636425355990358\n",
      "Slope 61.13337311897432, yintercept -27.202781872147714, Loss 28.75266532515969\n",
      "Slope 47.594377113268344, yintercept 27.390787752687505, Loss 28.86942211729142\n",
      "Slope 61.19043990928795, yintercept -27.435097018647024, Loss 28.98669784750266\n",
      "Slope 47.5370319758784, yintercept 27.624082106193473, Loss 29.104494640203193\n",
      "Slope 61.24806211020651, yintercept -27.669375355307164, Loss 29.22281462912216\n",
      "Slope 47.4791338296261, yintercept 27.85934918013091, Loss 29.341659957336763\n",
      "Slope 61.306235237828716, yintercept -27.905635901457966, Loss 29.461032777302748\n",
      "Slope 47.42068654071724, yintercept 28.096607916890544, Loss 29.580935250886267\n",
      "Slope 61.36495600218903, yintercept -28.143897533150113, Loss 29.701369549397107\n",
      "Slope 47.3616928614569, yintercept 28.335877136070646, Loss 29.82233785362308\n",
      "Slope 61.42422215273944, yintercept -28.384179022755152, Loss 29.94384235386545\n",
      "Slope 47.30215457404828, yintercept 28.57717557142571, Loss 30.065885249975203\n",
      "Slope 61.48403234452801, yintercept -28.626499073446812, Loss 30.188468751390186\n",
      "Slope 47.24207261512738, yintercept 28.820521903051475, Loss 30.31159507717291\n",
      "Slope 61.544386022308174, yintercept -28.870876349249155, Loss 30.435266456049014\n",
      "Slope 47.18144718360804, yintercept 29.065934785444536, Loss 30.559485126446276\n",
      "Slope 61.605283320182444, yintercept -29.11732950124558, Loss 30.68425333653418\n",
      "Slope 47.12027783406788, yintercept 29.313432871989367, Loss 30.80957334426395\n",
      "Slope 61.666724974704444, yintercept -29.36587719046359, Loss 30.935447417408938\n",
      "Slope 47.05856355760723, yintercept 29.563034836351957, Loss 31.0618778336055\n",
      "Slope 61.72871224964089, yintercept -29.616538107880825, Loss 31.188866880394176\n",
      "Slope 46.996302851855404, yintercept 29.814759391194887, Loss 31.316416855261213\n",
      "Slope 61.791246870835174, yintercept -29.86933099193899, Loss 31.44453006568042\n",
      "Slope 46.93349378157419, yintercept 30.068625304573533, Loss 31.573208829155295\n",
      "Slope 61.85433096982293, yintercept -30.124274643900154, Loss 31.70245547326143\n",
      "Slope 46.870134031115256, yintercept 30.324651414324922, Loss 31.832272335689204\n",
      "Slope 61.91796703502998, yintercept -30.381387941335465, Loss 31.96266176428665\n",
      "Slope 46.806220949819796, yintercept 30.58285664071899, Loss 32.09362611710269\n",
      "Slope 61.98215786953962, yintercept -30.64068984999742, Loss 32.22516776243048\n",
      "Slope 46.741751591303434, yintercept 30.843259997606257, Loss 32.357289078851025\n",
      "Slope 62.046906554551555, yintercept -30.902199434293426, Loss 32.489992455277054\n",
      "Slope 46.67672274744331, yintercept 31.105880602264318, Loss 32.623280290997\n",
      "Slope 62.112216417772125, yintercept -31.165935866549173, Loss 32.757154995719326\n",
      "Slope 46.611130977775034, yintercept 31.370737684118875, Loss 32.891618989616916\n",
      "Slope 62.17809100607702, yintercept -31.43191843522514, Loss 33.02667470337174\n",
      "Slope 46.54497263491275, yintercept 31.637850592491088, Loss 33.16232457821976\n",
      "Slope 62.24453406187588, yintercept -31.70016655222788, Loss 33.29857106599595\n",
      "Slope 46.47824388652336, yintercept 31.907238803503407, Loss 33.43541662917948\n",
      "Slope 62.31154950268435, yintercept -31.97069975943867, Loss 33.57286374093926\n",
      "Slope 46.41094073431509, yintercept 32.1789219262576, Loss 33.71091488517951\n",
      "Slope 62.37914140347527, yintercept -32.24353773456586, Loss 33.849572556585606\n",
      "Slope 46.34305903043921, yintercept 32.45291970838436, Loss 33.98883926067003\n",
      "Slope 62.447313981437944, yintercept -32.518700296412916, Loss 34.12871751381867\n",
      "Slope 46.274594491650014, yintercept 32.72925204104972, Loss 34.269209843337116\n",
      "Slope 62.51607158282406, yintercept -32.79620740964191, Loss 34.410318787497324\n",
      "Slope 46.20554271152255, yintercept 33.00793896349295, Loss 34.552046895584375\n",
      "Slope 62.58541867160175, yintercept -33.07607918910183, Loss 34.694396727943364\n",
      "Slope 46.13589917098703, yintercept 33.28900066716008, Loss 34.83737085602666\n",
      "Slope 62.655359819676505, yintercept -33.35833590378127, Loss 34.980971862441216\n",
      "Slope 46.06565924740473, yintercept 33.572457499488905, Loss 35.125202340996076\n",
      "Slope 62.72589969847, yintercept -33.642997980437684, Loss 35.270064896750156\n",
      "Slope 45.99481822237968, yintercept 33.858329967393615, Loss 35.415562146060154\n",
      "Slope 62.79704307167573, yintercept -33.93008600694806, Loss 35.561696716628646\n",
      "Slope 45.92337128847484, yintercept 34.14663874049124, Loss 35.70847124755246\n",
      "Slope 62.86879478903457, yintercept -34.219620735420065, Loss 35.855888389371124\n",
      "Slope 45.85131355497877, yintercept 34.437404654105976, Loss 36.00395080411564\n",
      "Slope 62.94115978099437, yintercept -34.511623085097455, Loss 36.15266116535734\n",
      "Slope 45.7786400528491, yintercept 34.73064871208297, Loss 36.302022158256996\n",
      "Slope 63.014143054136, yintercept -34.80611414508898, Loss 36.45203647961415\n",
      "Slope 45.705345738942526, yintercept 35.026392089438716, Loss 36.60270683791663\n",
      "Slope 63.087749687263624, yintercept -35.103115176946275, Loss 36.754035953390165\n",
      "Slope 45.63142549962626, yintercept 35.32465613487183, Loss 36.90602655804837\n",
      "Slope 63.16198482807099, yintercept -35.40264761711255, Loss 37.05868139574286\n",
      "Slope 45.556874153853094, yintercept 35.62546237315465, Loss 37.212003222213525\n",
      "Slope 63.23685369030727, yintercept -35.70473307926159, Loss 37.36599480513909\n",
      "Slope 45.48168645577128, yintercept 35.92883250742351, Loss 37.52065892418776\n",
      "Slope 63.312361551375965, yintercept -36.00939335654306, Loss 37.6759983710682\n",
      "Slope 45.4058570969311, yintercept 36.2347884213828, Loss 37.83201594958073\n"
     ]
    },
    {
     "data": {
      "image/png": "[encoded data removed]",
      "text/plain": [
       "<Figure size 432x288 with 1 Axes>"
      ]
     },
     "metadata": {
      "needs_background": "light"
     },
     "output_type": "display_data"
    }
   ],
   "source": [
    "m = 0\n",
    "b =3\n",
    "lr = 0.001\n",
    "hh = []\n",
    "slope = []\n",
    "intercept = []\n",
    "for i in range(200):\n",
    "    loss_slope_b = -2 * np.sum(y - m*x.ravel() - b)\n",
    "    loss_slope_m = -2 * np.sum((y - m*x.ravel() - b)*x.ravel())\n",
    "            \n",
    "    b = b - (lr * loss_slope_b)\n",
    "    m = m - (lr * loss_slope_m)\n",
    "    yhat= np.sqrt(mean_squared_error(y,(m*x)+b))\n",
    "    ht = hh.append(yhat)\n",
    "    ss = slope.append(m)\n",
    "    ii= intercept.append(b)\n",
    "    print(f\"Slope {m}, yintercept {b}, Loss {yhat}\")\n",
    "    #print(hh)\n",
    "plt.plot(x,slope[i] *x + intercept[i])\n",
    "plt.scatter(x,y)\n",
    "plt.show()"
   ]
  },
  {
   "cell_type": "code",
   "execution_count": 17,
   "id": "18e786af",
   "metadata": {},
   "outputs": [
    {
     "name": "stdout",
     "output_type": "stream",
     "text": [
      "-4.2534918242268964e+79 4.079005936851051e+79\n"
     ]
    }
   ],
   "source": [
    "print(m,b)"
   ]
  },
  {
   "cell_type": "code",
   "execution_count": null,
   "id": "76503c84",
   "metadata": {},
   "outputs": [],
   "source": []
  }
 ],
 "metadata": {
  "kernelspec": {
   "display_name": "Python 3 (ipykernel)",
   "language": "python",
   "name": "python3"
  },
  "language_info": {
   "codemirror_mode": {
    "name": "ipython",
    "version": 3
   },
   "file_extension": ".py",
   "mimetype": "text/x-python",
   "name": "python",
   "nbconvert_exporter": "python",
   "pygments_lexer": "ipython3",
   "version": "3.9.12"
  }
 },
 "nbformat": 4,
 "nbformat_minor": 5
}
